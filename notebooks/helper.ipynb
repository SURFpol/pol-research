{
 "cells": [
  {
   "cell_type": "code",
   "execution_count": 5,
   "metadata": {},
   "outputs": [],
   "source": [
    "import json\n",
    "from elasticsearch import Elasticsearch\n",
    "\n",
    "import util\n",
    "\n",
    "ES_CREDENTIALS = 'es-credentials.json'\n",
    "RAW_DATA_FOLDER = 'data/freeze3/output'"
   ]
  },
  {
   "cell_type": "code",
   "execution_count": 6,
   "metadata": {},
   "outputs": [
    {
     "ename": "FileNotFoundError",
     "evalue": "[Errno 2] No such file or directory: 'es-credentials.json'",
     "output_type": "error",
     "traceback": [
      "\u001b[0;31m---------------------------------------------------------------------------\u001b[0m",
      "\u001b[0;31mFileNotFoundError\u001b[0m                         Traceback (most recent call last)",
      "\u001b[0;32m<ipython-input-6-6b0cb91484aa>\u001b[0m in \u001b[0;36m<module>\u001b[0;34m\u001b[0m\n\u001b[0;32m----> 1\u001b[0;31m \u001b[0mes_client\u001b[0m \u001b[0;34m=\u001b[0m \u001b[0mutil\u001b[0m\u001b[0;34m.\u001b[0m\u001b[0mget_es_client\u001b[0m\u001b[0;34m(\u001b[0m\u001b[0mES_CREDENTIALS\u001b[0m\u001b[0;34m)\u001b[0m\u001b[0;34m\u001b[0m\u001b[0;34m\u001b[0m\u001b[0m\n\u001b[0m",
      "\u001b[0;32m~/pol/pol-research/notebooks/util.py\u001b[0m in \u001b[0;36mget_es_client\u001b[0;34m(credentials_file)\u001b[0m\n\u001b[1;32m     42\u001b[0m     \u001b[0mReturns\u001b[0m \u001b[0mthe\u001b[0m \u001b[0melasticsearch\u001b[0m \u001b[0mclient\u001b[0m \u001b[0mwhich\u001b[0m \u001b[0muses\u001b[0m \u001b[0mthe\u001b[0m \u001b[0mconfiguration\u001b[0m \u001b[0mfile\u001b[0m\u001b[0;34m\u001b[0m\u001b[0;34m\u001b[0m\u001b[0m\n\u001b[1;32m     43\u001b[0m     \"\"\"\n\u001b[0;32m---> 44\u001b[0;31m     \u001b[0m_\u001b[0m\u001b[0;34m,\u001b[0m \u001b[0mauth\u001b[0m\u001b[0;34m,\u001b[0m \u001b[0mhost\u001b[0m \u001b[0;34m=\u001b[0m \u001b[0mget_es_config\u001b[0m\u001b[0;34m(\u001b[0m\u001b[0mcredentials_file\u001b[0m\u001b[0;34m)\u001b[0m\u001b[0;34m\u001b[0m\u001b[0;34m\u001b[0m\u001b[0m\n\u001b[0m\u001b[1;32m     45\u001b[0m     es_client = Elasticsearch([host],\n\u001b[1;32m     46\u001b[0m                               \u001b[0mhttp_auth\u001b[0m\u001b[0;34m=\u001b[0m\u001b[0mauth\u001b[0m\u001b[0;34m,\u001b[0m\u001b[0;34m\u001b[0m\u001b[0;34m\u001b[0m\u001b[0m\n",
      "\u001b[0;32m~/pol/pol-research/notebooks/util.py\u001b[0m in \u001b[0;36mget_es_config\u001b[0;34m(file_path)\u001b[0m\n\u001b[1;32m     31\u001b[0m     \u001b[0mThe\u001b[0m \u001b[0mfile\u001b[0m \u001b[0;32mis\u001b[0m \u001b[0mexpected\u001b[0m \u001b[0mto\u001b[0m \u001b[0mhave\u001b[0m \u001b[0;34m'url'\u001b[0m\u001b[0;34m,\u001b[0m \u001b[0;34m'username'\u001b[0m \u001b[0;32mand\u001b[0m \u001b[0;34m'password'\u001b[0m \u001b[0mkeys\u001b[0m\u001b[0;34m\u001b[0m\u001b[0;34m\u001b[0m\u001b[0m\n\u001b[1;32m     32\u001b[0m     \"\"\"\n\u001b[0;32m---> 33\u001b[0;31m     \u001b[0;32mwith\u001b[0m \u001b[0mopen\u001b[0m\u001b[0;34m(\u001b[0m\u001b[0mfile_path\u001b[0m\u001b[0;34m)\u001b[0m \u001b[0;32mas\u001b[0m \u001b[0mstream\u001b[0m\u001b[0;34m:\u001b[0m\u001b[0;34m\u001b[0m\u001b[0;34m\u001b[0m\u001b[0m\n\u001b[0m\u001b[1;32m     34\u001b[0m         \u001b[0mcredentials\u001b[0m \u001b[0;34m=\u001b[0m \u001b[0mjson\u001b[0m\u001b[0;34m.\u001b[0m\u001b[0mload\u001b[0m\u001b[0;34m(\u001b[0m\u001b[0mstream\u001b[0m\u001b[0;34m)\u001b[0m\u001b[0;34m\u001b[0m\u001b[0;34m\u001b[0m\u001b[0m\n\u001b[1;32m     35\u001b[0m     return (credentials['url'],\n",
      "\u001b[0;31mFileNotFoundError\u001b[0m: [Errno 2] No such file or directory: 'es-credentials.json'"
     ]
    }
   ],
   "source": [
    "es_client = util.get_es_client(ES_CREDENTIALS)"
   ]
  },
  {
   "cell_type": "code",
   "execution_count": 4,
   "metadata": {},
   "outputs": [],
   "source": [
    "def get_indices(es_client):\n",
    "    print(es_client.cat.indices(format=\"b\", v=True))"
   ]
  },
  {
   "cell_type": "code",
   "execution_count": 1,
   "metadata": {},
   "outputs": [],
   "source": [
    "# get_indices(es_client)"
   ]
  },
  {
   "cell_type": "code",
   "execution_count": 12,
   "metadata": {},
   "outputs": [],
   "source": [
    "def see_raw_document(id):\n",
    "    for document in core.read_raw_documents(RAW_DATA_FOLDER):\n",
    "        if document['id'] == id:\n",
    "            print(document)"
   ]
  },
  {
   "cell_type": "code",
   "execution_count": 27,
   "metadata": {},
   "outputs": [
    {
     "name": "stdout",
     "output_type": "stream",
     "text": [
      "{'text': 'Use of consonance and dissonance\\nConsonance is a term that describes the phenomenon of several sounds or pitches blending together, almost as if becoming one, a unity of sound. Dissonance on the other hand, is a term that describes\\xa0tension\\xa0in sound, as if sounds or pitches do not blend together, and remain separate auditive entities. The apperception of whether sounds do or do not blend is highly subjective however, and strongly dependent on musical context, whereas\\xa0tension\\xa0is a more objectively measurable property in sound itself.\\nIn\\xa0functional harmony, that is: harmony employing degrees and thus harmonic functions, the usual order is that of an increase of tension followed by a moment relaxation, so using more and increasing dissonance, to be followed and the tension released by consonance. The consonance is always chosen in relation to the musical context, the dissonants employed are style- and context-related as well. As a general rule however, it is the dissonants which represent the strongest expressional means in harmony.\\n\\n', 'mime_type': 'application/vnd.openxmlformats-officedocument.wordprocessingml.document', 'id': '4a1dd26b16eeae40e8bb5e7aa9be379a0650b2c9', 'url': 'https://surfsharekit.nl/dl/ooo/e4bd9d62-7d0b-4ac2-b933-990199dd2193/6d21a6ea-ebbb-4e42-8c38-5783fa80104a', 'title': 'Use of consonance and dissonance', 'language': 'en', 'arrangement_keywords': ['Consonance', 'Dissonance', 'Basic Music theory'], 'arrangement_collection_name': 'stimuleringsmaatregel'}\n"
     ]
    }
   ],
   "source": [
    "see_document('4a1dd26b16eeae40e8bb5e7aa9be379a0650b2c9')"
   ]
  },
  {
   "cell_type": "code",
   "execution_count": null,
   "metadata": {},
   "outputs": [],
   "source": []
  }
 ],
 "metadata": {
  "kernelspec": {
   "display_name": "Python 3",
   "language": "python",
   "name": "python3"
  },
  "language_info": {
   "codemirror_mode": {
    "name": "ipython",
    "version": 3
   },
   "file_extension": ".py",
   "mimetype": "text/x-python",
   "name": "python",
   "nbconvert_exporter": "python",
   "pygments_lexer": "ipython3",
   "version": "3.7.1"
  }
 },
 "nbformat": 4,
 "nbformat_minor": 2
}
