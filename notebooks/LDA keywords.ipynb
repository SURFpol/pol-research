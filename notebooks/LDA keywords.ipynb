{
 "cells": [
  {
   "cell_type": "code",
   "execution_count": null,
   "metadata": {},
   "outputs": [],
   "source": [
    "%load_ext autoreload\n",
    "%autoreload 2\n",
    "\n",
    "import sys\n",
    "sys.path.append(\"../\")"
   ]
  },
  {
   "cell_type": "code",
   "execution_count": null,
   "metadata": {},
   "outputs": [],
   "source": [
    "import os\n",
    "import json\n",
    "from functools import reduce\n",
    "\n",
    "import spacy\n",
    "from sklearn.feature_extraction.text import TfidfVectorizer\n",
    "from sklearn.decomposition import LatentDirichletAllocation\n",
    "\n",
    "nlp = spacy.load(\"nl_core_news_sm\")"
   ]
  },
  {
   "cell_type": "code",
   "execution_count": null,
   "metadata": {},
   "outputs": [],
   "source": [
    "sources = []\n",
    "for entry in os.scandir(\"../data/stimuleringsregeling/\"):\n",
    "    if entry.is_file():\n",
    "        with open(entry.path) as source_file:\n",
    "            source = json.load(source_file)\n",
    "        if any(doc for doc in source.get(\"documents\", []) if doc.get(\"text\", None)):\n",
    "            sources.append(source)\n",
    "\n",
    "source_documents = [doc[\"text\"] for source in sources for doc in source[\"documents\"]]"
   ]
  },
  {
   "cell_type": "code",
   "execution_count": null,
   "metadata": {},
   "outputs": [],
   "source": [
    "tfidf_vectorizer = TfidfVectorizer()\n",
    "matrix = tfidf_vectorizer.fit_transform(source_documents)\n",
    "feature_names = tfidf_vectorizer.get_feature_names()"
   ]
  },
  {
   "cell_type": "code",
   "execution_count": null,
   "metadata": {},
   "outputs": [],
   "source": [
    "lda_model = LatentDirichletAllocation(n_components=25, max_iter=500)\n",
    "lda_model.fit(matrix)"
   ]
  },
  {
   "cell_type": "code",
   "execution_count": null,
   "metadata": {},
   "outputs": [],
   "source": [
    "def print_top_words(model, feature_names, n_top_words):\n",
    "    for topic_idx, topic in enumerate(model.components_):\n",
    "        print(\"Topic #%d:\" % topic_idx)\n",
    "        print(\" | \".join([feature_names[i]\n",
    "                        for i in topic.argsort()[:-n_top_words - 1:-1]]))\n",
    "        print()\n",
    "        print()\n",
    "    print()\n"
   ]
  },
  {
   "cell_type": "code",
   "execution_count": 11,
   "metadata": {},
   "outputs": [
    {
     "name": "stdout",
     "output_type": "stream",
     "text": [
      "Topic #0:\n",
      "de | van | en | het | vimeo | in | een | je | te | op | met | of | deze | voor | is | onderzoek | muziek | om | studenten | zijn | punten | dat | als | docent | log | videos | mogelijk | muzieknotatie | favier | dit | upload | peter | video | live | page | gebruik | help | kost | watch | zo | app | niet | ook | commons | creative | aan | door | online | bij | worden\n",
      "\n",
      "\n",
      "Topic #1:\n",
      "de | een | van | in | en | het | op | komt | die | ook | of | als | lichtten | je | is | niet | occurring | cd | voor | grote | gezichtspunt | slash | gemotiveerd | joodse | te | nopen | harmonieleer | notatie | 328 | wat | landschapsopnames | advocate | learning | this | explicitly | terts | inzake | wordt | gemeente | opgebouwd | iv | bestuurskundigen | nose | brendon | was | software | add2 | herbergt | politik | hetzelfde\n",
      "\n",
      "\n",
      "Topic #2:\n",
      "playerservice | boos | site1 | f6eb3e00240a4108864b2899497613d01d | oost | opnamen | initializing | werkcolleges | worse | gedrukt | title | json | bias | wait | enabling | calculation | 210e0dd528984e9da19e68b18bbe49c21d | mediasite | damage | arbeidsovereenkomsten | view | flags | gedefinieerd | 64ee177242e249388d25de17a4f53b8d1d | sullivan | gebruiksgemak | 4d | a12 | wapenwedloop | catastrophic | grond | trole | gedoogbe | disc | toepassingsgebieden | bosch | kaanse | scientists | noordzeekustzone | alcohol | enkel | ondersteu | conversation | committed | alan | europeansocial | models | toeging | bevoegdheid | causality\n",
      "\n",
      "\n",
      "Topic #3:\n",
      "voortschrijden | title | aankondiging | collections | logogemeenten | vergt | natte | voornemen | vimeo | dorpsgenoten | vindbaar | operatietafel | afvalligheid | hoogleraar | interview | bruiken | van | wist | yield | spoorboekje | medicare | from | analysekader | voordoen | geaccommo | voorlaatste | kommerij | phone | bedoelingen | gedoogbe | zeng | october | muzikaal | twistende | paper | stu | kapitalisme | dovende | notatiesoftware | raak | beroemd | leiderschap | lijkt | gankelijke | worthiness | aanraking | afwezige | expand | penetration | 824\n",
      "\n",
      "\n",
      "Topic #4:\n",
      "div | en | this | data | the | requires | concludeert | swing | activisme | het | shuffle | ko | lobby | removing | rechtse | van | uitgebreid | de | groepje | of | object | formuleer | vullen | achtergrond | afgespeeld | slimmer | dekt | consideration | vooruitgang | weken | in | onopgemerkt | bring | marketingdoel | informatiemonopolie | subculturen | mensenwerk | migratie | jan | leefbaar | innovation | zwakkeren | beschou | conference | ideaaltyperingen | antidemo | 3200 | softdrugsbeleid | jacques | tijdvoorelkaar\n",
      "\n",
      "\n",
      "Topic #5:\n",
      "varying | buiten | shirt | googletagmanager | absolutely | academica | was | privacyassocia | but | publiceren | gravenhage | verrassende | capitalist | aanvraagt | velen | 39 | teniet | hangt | uitgewerkte | merendeel | apolitiek | prototyped | telijke | searls | p23 | bespaard | rechtsgelijkheid | 19637 | lager | learning | visit | centrumstad | ontwikkeling | aanbrengen | 630 | allegro | backcolorlogged | uncovered | arpeggio | 11507 | waarden56 | wow | beroep4 | downloaded | combine | sacrifice | verbreding | africa | intentionally | percussierijke\n",
      "\n",
      "\n",
      "Topic #6:\n",
      "the | de | 2004 | hein | brussel | verkavelingspatroon | symbolen | rbsgr | pdf | vakgeno | akk | opdracht | toonsoorten | afgemeten | zwischenbetrachtung | huis | energiebelangen | doordacht | in | planning | bedreven | options | michigan | preferred | boele | flitsinformatie | secondly | facing | aforementioned | schmitt | visser | waardenbotsing | tweetallen | bezworen | bestrafte | voraus | adjust | internet | verlichtingsfi | beweerd | uitgedrukt | afdekken | 0522 | onderkant | omgeving | onderschat | exel | wijkg1000 | 63 | groepsproces\n",
      "\n",
      "\n",
      "Topic #7:\n",
      "strahilevitz | morfologie | koppeld | landscapes | schadelijke | sharpener | spontaniteit | de | gevoelige | samenwerkingsverband | je | archives | zorgzaamheid | veranderingen | een | hirschleifer | landforms | gaf | familieleden | accepteren | overcome | coordinate | schaart | swingopvatting | metapolitieke | omgevingsdiensten | sms | bastow | rijnstraat | center | leesvoorbeeld | furnishes | stijgen | boekproductie | predict | toetsen | vorming | beleidsrijke | voortschrijdende | overdragen | groningen | inflatiecijfer | strijdende | inhuur | logical | explore_02_aerial | depths | bugs | samengaan | spaces\n",
      "\n",
      "\n",
      "Topic #8:\n",
      "playerservice | initializing | mediasite | svc | json | site1 | view | required | loading | javascript | wait | content | to | is | please | 98d8d3edfff64b41a14b5b79d44057331d | 0e0a7dd13a544efa9d14292d1bf4eddf1d | b808e99edc8d4fe6aaf9ee950a5721c81d | f2a767e9567b4cca8e143f7aedd1e6871d | 4399dfe1d41b47e1a425a7580fb466081d | 3e944e61a337457d96b61a7bf265e82a1d | 210e0dd528984e9da19e68b18bbe49c21d | 64ee177242e249388d25de17a4f53b8d1d | 1e5b6bad58f34e03892b4f70b2c1522e1d | d15c042efdde4ea9982e3b3288aaf9051d | 6ded70b3113b4f2c91edb860159893b31d | 9f2e614d120642178cd6e03169c5ff181d | ed59d73cabaa4695a4c48a1972c7dcc31d | 8336c0b0c923483ea5b01ad97d60e5051d | e5fee6b359fe4b5bbdbe4013e2d1fadb1d | 1d5bf6a32af44e3fb062c8aa405187c41d | a246d81279884d1ebfcc5324b77936031d | bab589d356024300a2d35e1a0f94c2881d | f6eb3e00240a4108864b2899497613d01d | 608a9a694c4e404ea16a8efed041ad171d | rechtelijk | milan | rend | noteer | gidsen | planuitwerkingsfase | broodvoorziening | sell | devel | kernkracht | ageing | systemically | smaller | poel | fysieke\n",
      "\n",
      "\n",
      "Topic #9:\n",
      "zestien | bevolkings | dealt | makers | businessmo | 4240 | authentication | observatiedata | betrokkenheid | werkomgeving | richt | gedoogbe | bindt | skillset | regierol | concreter | whole | zwitserland | groot | keine | scenario | gevallen | universal | engelstalige | 1887 | begeleide | sweden | einfuhrung | society | polygonen | stadsrondleiding | lacks | afstemmingsoverleg | fossil | 069 | grafiek | 142 | maximale | feel | kabels | onderhevig | already | interactiemogelijkheden | bunt | pypi | adoptie | toerusting | vereni | meedenkt | omgang\n",
      "\n",
      "\n",
      "Topic #10:\n",
      "onderstaand | letterlijk | 66 | 56 | 699 | 4660 | 26 | 511 | 601 | 069 | 83 | 03 | 50e0 | 964 | 31140 | 012 | 296469 | 83622 | 50d | 011 | 67 | 96 | b7 | 64 | 54 | 46 | 36 | 01 | 06 | 15 | 08 | 80 | 60 | 86 | 12 | 45 | 55 | na | stuk | 27 | opdracht | 17 | 13 | 11 | maak | zo | mogelijk | collector | object | adobe\n",
      "\n",
      "\n",
      "Topic #11:\n",
      "1984 | copingge | ande | vast | wurggreep | beslissingsbevoegdheid | afgerond | ervóór | derge | indicating | referendumcommissie | herkenning | changed | daaraan | comet | koppeld | consoneert | roboticists | kruiskamp | tijdelijke | netwerken | verbruik | acs2015 | vertegenwoordigde | invisibly | kenmerk | cm | analysed | organisatievormen | zundert | fenomeen | tweedejaars | accidentally | signaalbewerking | onderkende | dige | jurisprudentie | sturingstheorieën | desnoods | schillend | life | cerende | joke | heette | page | verminderde | federalism | vraaggericht | scheduled | sommi\n",
      "\n",
      "\n",
      "Topic #12:\n",
      "je | punten | de | onderzoek | via | patiënt | chartership | een | zo | item | lation | herijking | theoretici | het | verkiezingsuitslagen | militaire | participatiepraktijk | en | printed | reverse | lectief | aansluitend | nodigen | vlaamse | onderwijsinnovatie | uitmaakten | component | 31 | kost | invoking | 728 | exante | wagen | verursachung | geconf | afstemmingsoverleg | mayor | uitgeschreven | analyseert | insluiting | valued | dozens | oudaen | economy | sava | migrantengezinnen | battery | motivated | adele | program\n",
      "\n",
      "\n",
      "Topic #13:\n",
      "the | requires | retail | marketingoffensief | procesmanager | we | modder | object | ogg | contrary | and | politik | rivieren | ro | amersfoort | beslissingsbevoegdheid | this | specified | javascript | bestuursrechtelijk | learning | voet | producers | nsob | execute | verkiezingen | staatsrechtelijk | crvb | bekwame | hoofdnoot | keer | outs | toegewijde | 02z | kaderrichtlijnen | hooggespannen | uitvoeringsfase | schuift | waarden98 | unemployed | vertragen | evalu | waardeconstellatie | ob | dm7 | hamlin | zegen | ooit | zelfstandigheid | hard\n",
      "\n",
      "\n",
      "Topic #14:\n",
      "de | python | the | studenten | het | of | te | midi | in | en | dataset | totaliteit | een | jazzmuziek | to | frankfurter | module | opzochten | blinden | apartment | young | van | feature | worden | modules | verwoord | articuleren | om | zinloos | werd | schokker | for | rechters | orange | gemakkeli | toleranter | vergoeding | crim | hierop | is | wonderen | mordent | variables | geleverde | download | raadrvs | varia | 40857efb51b9 | and | metering\n",
      "\n",
      "\n",
      "Topic #15:\n",
      "the | and | music | of | ab | decision | to | bb | deployment | data | by | at | explicit | arduino | impurity | kamerdebat | hurenkamp | orchestral | imposante | eentje | are | attributes | arriveren | maps | cm7 | targeted | layout | fip | features | orange | modernization | pillow | vernieuwende | feature | techniques | versta | between | welvaartsstijging | 1380 | voltooid | eenzijdige | one | planet | vaker | maven | wacht | regression | continuum | nistisch | laissez\n",
      "\n",
      "\n",
      "Topic #16:\n",
      "de | van | een | en | het | je | studenten | excursie | op | smokkel | aware | title | in | voor | dat | dillen | zet | bevolkingsenquêtes | conflicting | canberra | distributors | book20 | integriteit | outs | leer | unilever | is | kennisverwerving | usmission | nsob_ | die | false | refrigerators | multipolygon | met | deterministically | uitgewisseld | dook | te | the | basket | aanwijzingen | omkomen | ziekenhuisfactoren | several | zijn | hielpen | vastleggen | erken | halfverminderd\n",
      "\n",
      "\n",
      "Topic #17:\n",
      "wb | fõ | wn | dº7 | eœ | tenor | dœ | benoemen | 49 | 42 | 35 | 41 | 47 | 43 | 39 | 44 | 36 | 38 | 25 | 46 | 40 | 24 | 26 | 29 | 37 | 45 | ø7 | 34 | balken | 27 | 21 | 18 | b5 | 22 | 19 | 31 | 17 | playerservice | noteer | 30 | a5 | š7 | 28 | json | 32 | 20 | 1e5b6bad58f34e03892b4f70b2c1522e1d | 33 | evt | 14\n",
      "\n",
      "\n",
      "Topic #18:\n",
      "empathy | informatique | panorama | 0737 | 241 | partnerorganisatie | gegeorefereerd | hengelo | inclusief | skilled | wetgevings | bestemmingsplan | aangemaakt | oven | beleidsvoorbereidende | accidentally | transports | kommerij | je | negatives | discussie | vara | schools | latency | consumeren | concavity | hackers | ingewikkeld | verborgene | stories | visualisatie | fair | she | nose | optimaal | auch | revolutionary | mzi | wijsheid | news | kennisuitwisseling | loyaliteit | ideeën | lash | medebewoners | van | otto | 833 | broaden | anyway\n",
      "\n",
      "\n",
      "Topic #19:\n",
      "main | skip | content | to | ab | cm7 | gm | fm7 | bb | gm7 | eb | bb7 | sheet | chasing | pavements | band | bijgaand | bb6 | a3a3 | uittreksel | a1a1 | shuffled | a2a2 | softly | specialb | mp | 16th | ff | invoert | codaø | codad | bb7sus4 | ritmesectie | rhodes | bv | recorded | bass | adele | vind | full | 24 | gehele | toelichting | 21 | drums | 17 | as | g7 | 80 | gebruikte\n",
      "\n",
      "\n",
      "Topic #20:\n",
      "de | div | dieser | getest | dioxide | reniers | van | validation | levensfase | juri | nati | javascript | ministerie | freelance | enrichid | mede | verwijzingen | prevail | to | sometimes | het | 2104 | vanmierlo | metadata | tel | miniprovincies | en | deed | marriage | statline | samenwerkingsverband | excessive | eenvoudige | zvw | swiss | schematische | gelderland | grof | angstlessen | musiceren | ringer | gedeelte | clicking | auteursrecht | historisch | sollicitanten | fat | safe | miami | waaraan\n",
      "\n",
      "\n",
      "Topic #21:\n",
      "vaadin | application | browser | built | to | have | use | enable | an | your | with | you | javascript | in | describes | asia | tralizing | composing | cs50 | availability | 76 | behartigd | bevriezen | ambtelijk | 99 | ondervinden | overheidsinstelling | transport | thacher | regulations | roundup | speelruimte | advent | uitgegaan | archiverings | votes | definitie | kadaster | 953 | fourth | dog | nabuurschap | keerbeleid | 0b4 | atlas | hello | risico | credentials | screened | kondigt\n",
      "\n",
      "\n",
      "Topic #22:\n",
      "moeras | remarkable | blowing | gesproken | dakloze | countervailing | europeanen | coun | cliëntapplicaties | geïnstrueerd | brandpunt | oefening | zeuren | shapefile | stapeltjes | bridging | waddengebied | noud | diagnostics | directed | gallen | missie | michael | atypische | tuinbeheerders | organi | ericpostma | copingstrate | procesondersteuning | monitoren | it | wenst | zelfbewustzijn | schuldsaneringtraject | zanger | pentatoniek | manufacturer | anno | verdeel | merit | concreter | incommensurabele | book26 | zorgarrangementen | 2682 | milling | g4 | betekenisloze | 2001 | record\n",
      "\n",
      "\n",
      "Topic #23:\n",
      "the | medicijnen | booz | proporties | object | during | zorgcontacten | tegenhanger | python | richten | p2 | toebrengen | vliegt | results | opgeladen | develop | preventie | title | shell | smid | and | afl | vinkjes | verontwaardiging | newsletter | mutually | tnt | contender | hoofdmenu | attributes | vragenloosheid | erkenden | zwakkere | hulpbron | bayesian | noottype | verwijzingen | book74 | the_guide | componeer | variance | data | onderzoeksprogramma | exported | pitspets | watson | bedrijfsprocessen | meant | pays | veldheer\n",
      "\n",
      "\n",
      "Topic #24:\n",
      "object | learning | requires | the | this | javascript | title | and | to | for | of | below | overview | data | python | github | in | is | content | feature | decision | with | or | by | you | be | at | are | on | file | model | that | sorry | features | sign | your | test | reload | can | code | orange | tab | it | nothing | science | classification | validation | cannot | tags | we\n",
      "\n",
      "\n",
      "\n"
     ]
    }
   ],
   "source": [
    "print_top_words(lda_model, feature_names, 50)"
   ]
  },
  {
   "cell_type": "code",
   "execution_count": null,
   "metadata": {},
   "outputs": [],
   "source": []
  }
 ],
 "metadata": {
  "anaconda-cloud": {},
  "kernelspec": {
   "display_name": "Python [conda env:surf]",
   "language": "python",
   "name": "conda-env-surf-py"
  },
  "language_info": {
   "codemirror_mode": {
    "name": "ipython",
    "version": 3
   },
   "file_extension": ".py",
   "mimetype": "text/x-python",
   "name": "python",
   "nbconvert_exporter": "python",
   "pygments_lexer": "ipython3",
   "version": "3.6.6"
  },
  "varInspector": {
   "cols": {
    "lenName": 16,
    "lenType": 16,
    "lenVar": 40
   },
   "kernels_config": {
    "python": {
     "delete_cmd_postfix": "",
     "delete_cmd_prefix": "del ",
     "library": "var_list.py",
     "varRefreshCmd": "print(var_dic_list())"
    },
    "r": {
     "delete_cmd_postfix": ") ",
     "delete_cmd_prefix": "rm(",
     "library": "var_list.r",
     "varRefreshCmd": "cat(var_dic_list()) "
    }
   },
   "types_to_exclude": [
    "module",
    "function",
    "builtin_function_or_method",
    "instance",
    "_Feature"
   ],
   "window_display": false
  }
 },
 "nbformat": 4,
 "nbformat_minor": 2
}
