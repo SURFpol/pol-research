{
 "cells": [
  {
   "cell_type": "code",
   "execution_count": null,
   "metadata": {},
   "outputs": [],
   "source": [
    "%load_ext autoreload\n",
    "%autoreload 2\n",
    "\n",
    "import os\n",
    "import sys\n",
    "import json\n",
    "from functools import reduce\n",
    "\n",
    "import spacy\n",
    "from sklearn.feature_extraction.text import TfidfVectorizer\n",
    "\n",
    "\n",
    "sys.path.append(\"../\")\n",
    "nlp = spacy.load(\"nl_core_news_sm\")"
   ]
  },
  {
   "cell_type": "code",
   "execution_count": null,
   "metadata": {},
   "outputs": [],
   "source": [
    "sources = []\n",
    "for entry in os.scandir(\"../data/stimuleringsregeling/\"):\n",
    "    if entry.is_file():\n",
    "        with open(entry.path) as source_file:\n",
    "            source = json.load(source_file)\n",
    "        if any(doc for doc in source.get(\"documents\", []) if doc.get(\"text\", None)):\n",
    "            sources.append(source)\n",
    "\n",
    "source_documents = [doc[\"text\"] for source in sources for doc in source[\"documents\"]]"
   ]
  },
  {
   "cell_type": "code",
   "execution_count": null,
   "metadata": {},
   "outputs": [],
   "source": [
    "documents = [nlp(doc) for doc in source_documents if len(doc) < 1000000]  # text size limit comes from spaCy\n",
    "\n",
    "documents_count = len(documents)\n",
    "token_count = reduce(lambda count, doc: count+len(doc), documents, 0)\n",
    "sentence_count = reduce(lambda count, doc: count+len(list(doc.sents)), documents, 0)\n",
    "entity_count = reduce(\n",
    "    lambda count, doc: count+len([\n",
    "        ent for ent in doc.ents \n",
    "        if len(ent.text.strip())  # not sure why there are empty entities from spaCy\n",
    "    ]),  \n",
    "    documents, \n",
    "    0\n",
    ")\n",
    "\n",
    "print(\"Total sources: {}\".format(documents_count))\n",
    "print(\"Average document length: {}\".format(token_count / documents_count))\n",
    "print(\"Average sentences: {}\".format(sentence_count / documents_count))\n",
    "print(\"Average entities: {}\".format(entity_count / documents_count))"
   ]
  },
  {
   "cell_type": "code",
   "execution_count": null,
   "metadata": {},
   "outputs": [],
   "source": [
    "doc = documents[0]\n",
    "print(list(doc.sents))\n",
    "print([ent for ent in doc.ents if len(ent.text.strip())])"
   ]
  },
  {
   "cell_type": "code",
   "execution_count": null,
   "metadata": {},
   "outputs": [],
   "source": [
    "tfidf_vectorizer = TfidfVectorizer()\n",
    "tfidf_vectorizer.fit(source_documents)"
   ]
  },
  {
   "cell_type": "code",
   "execution_count": null,
   "metadata": {},
   "outputs": [],
   "source": [
    "for source in sources:\n",
    "    documents = source.get(\"documents\")\n",
    "    vectors = tfidf_vectorizer.transform([doc[\"text\"] for doc in documents])\n",
    "    source_vector = vectors.sum(axis=0)\n",
    "    keyword_tfidf_values = {\n",
    "        word.lower(): source_vector[ \n",
    "            0, \n",
    "            tfidf_vectorizer.vocabulary_[word.lower()]\n",
    "        ]\n",
    "        for keyword in source.get(\"keywords\", [])\n",
    "        for word in keyword.split(\" \")\n",
    "    }\n",
    "    print(keyword_tfidf_values)\n",
    "    break"
   ]
  }
 ],
 "metadata": {
  "kernelspec": {
   "display_name": "Python [conda env:surf]",
   "language": "python",
   "name": "conda-env-surf-py"
  },
  "language_info": {
   "codemirror_mode": {
    "name": "ipython",
    "version": 3
   },
   "file_extension": ".py",
   "mimetype": "text/x-python",
   "name": "python",
   "nbconvert_exporter": "python",
   "pygments_lexer": "ipython3",
   "version": "3.6.6"
  },
  "varInspector": {
   "cols": {
    "lenName": 16,
    "lenType": 16,
    "lenVar": 40
   },
   "kernels_config": {
    "python": {
     "delete_cmd_postfix": "",
     "delete_cmd_prefix": "del ",
     "library": "var_list.py",
     "varRefreshCmd": "print(var_dic_list())"
    },
    "r": {
     "delete_cmd_postfix": ") ",
     "delete_cmd_prefix": "rm(",
     "library": "var_list.r",
     "varRefreshCmd": "cat(var_dic_list()) "
    }
   },
   "types_to_exclude": [
    "module",
    "function",
    "builtin_function_or_method",
    "instance",
    "_Feature"
   ],
   "window_display": false
  }
 },
 "nbformat": 4,
 "nbformat_minor": 2
}
