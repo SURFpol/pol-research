{
 "cells": [
  {
   "cell_type": "code",
   "execution_count": 1,
   "metadata": {},
   "outputs": [],
   "source": [
    "import os\n",
    "import json\n",
    "import itertools\n",
    "import numpy as np\n",
    "import matplotlib.pyplot as plt\n",
    "\n",
    "from sklearn.metrics import confusion_matrix, accuracy_score\n"
   ]
  },
  {
   "cell_type": "code",
   "execution_count": 2,
   "metadata": {},
   "outputs": [],
   "source": [
    "# Copied from: https://scikit-learn.org/stable/auto_examples/model_selection/plot_confusion_matrix.html\n",
    "def plot_confusion_matrix(cm, classes,\n",
    "                          normalize=False,\n",
    "                          title='Confusion matrix',\n",
    "                          cmap=plt.cm.Blues):\n",
    "    \"\"\"\n",
    "    This function prints and plots the confusion matrix.\n",
    "    Normalization can be applied by setting `normalize=True`.\n",
    "    \"\"\"\n",
    "    if normalize:\n",
    "        cm = cm.astype('float') / cm.sum(axis=1)[:, np.newaxis]\n",
    "        print(\"Normalized confusion matrix\")\n",
    "    else:\n",
    "        print('Confusion matrix, without normalization')\n",
    "\n",
    "    print(cm)\n",
    "\n",
    "    plt.imshow(cm, interpolation='nearest', cmap=cmap)\n",
    "    plt.title(title)\n",
    "    plt.colorbar()\n",
    "    tick_marks = np.arange(len(classes))\n",
    "    plt.xticks(tick_marks, classes, rotation=45)\n",
    "    plt.yticks(tick_marks, classes)\n",
    "\n",
    "    fmt = '.2f' if normalize else 'd'\n",
    "    thresh = cm.max() / 2.\n",
    "    for i, j in itertools.product(range(cm.shape[0]), range(cm.shape[1])):\n",
    "        plt.text(j, i, format(cm[i, j], fmt),\n",
    "                 horizontalalignment=\"center\",\n",
    "                 color=\"white\" if cm[i, j] > thresh else \"black\")\n",
    "\n",
    "    plt.ylabel('True label')\n",
    "    plt.xlabel('Predicted label')\n",
    "    plt.tight_layout()"
   ]
  },
  {
   "cell_type": "code",
   "execution_count": 3,
   "metadata": {},
   "outputs": [],
   "source": [
    "with open(\"../data/language_labels/output.json\") as docs_file:\n",
    "    docs = json.load(docs_file)\n",
    "\n",
    "for doc in docs:\n",
    "    doc[\"language\"] = {\n",
    "        \"freeze\": doc[\"language\"]\n",
    "    }"
   ]
  },
  {
   "cell_type": "code",
   "execution_count": 4,
   "metadata": {},
   "outputs": [],
   "source": [
    "# spaCy language (CLD 2 based)\n",
    "import spacy\n",
    "from spacy_cld import LanguageDetector\n",
    "\n",
    "nlp = spacy.load('nl_core_news_sm')\n",
    "language_detector = LanguageDetector()\n",
    "nlp.add_pipe(language_detector)\n",
    "\n",
    "for doc in docs:\n",
    "    text = nlp(doc[\"title\"])\n",
    "    language = \"unknown\"\n",
    "    if len(text._.languages):\n",
    "        language = text._.languages[0]\n",
    "    doc[\"language\"][\"cld2\"] = language\n"
   ]
  },
  {
   "cell_type": "code",
   "execution_count": 5,
   "metadata": {},
   "outputs": [],
   "source": [
    "# CLD 3\n",
    "import cld3\n",
    "\n",
    "for doc in docs:\n",
    "    language = cld3.get_language(doc[\"title\"])\n",
    "    doc[\"language\"][\"cld3\"] = language.language if language and language.is_reliable else \"unknown\"\n"
   ]
  },
  {
   "cell_type": "code",
   "execution_count": 6,
   "metadata": {},
   "outputs": [],
   "source": [
    "# langdetect (NLTK library 1)\n",
    "from langdetect import detect\n",
    "\n",
    "for doc in docs:\n",
    "    language = detect(doc[\"title\"])\n",
    "    doc[\"language\"][\"langdetect\"] = language if language else \"unknown\"\n"
   ]
  },
  {
   "cell_type": "code",
   "execution_count": 7,
   "metadata": {},
   "outputs": [],
   "source": [
    "# langid (NLTK library 2)\n",
    "from langid.langid import LanguageIdentifier, model\n",
    "\n",
    "detector = LanguageIdentifier.from_modelstring(model, norm_probs=False)\n",
    "detector.set_languages(['en','nl'])\n",
    "\n",
    "for doc in docs:\n",
    "    language = detector.classify(doc[\"title\"])\n",
    "    doc[\"language\"][\"langid\"] = language[0] if language else \"unknown\""
   ]
  },
  {
   "cell_type": "code",
   "execution_count": 8,
   "metadata": {},
   "outputs": [],
   "source": [
    "y_true = []\n",
    "y_cld2 = []\n",
    "y_cld3 = []\n",
    "y_langdetect = []\n",
    "y_langid = []\n",
    "y_freeze = []\n",
    "for doc in docs:\n",
    "    if \"manual-entry\" not in doc:\n",
    "        continue\n",
    "    y_true.append(doc[\"manual-entry\"][\"language\"] or \"unknown\")\n",
    "    y_freeze.append(doc[\"language\"][\"freeze\"] or \"unknown\")\n",
    "    y_cld2.append(doc[\"language\"][\"cld2\"] or \"unknown\")\n",
    "    y_cld3.append(doc[\"language\"][\"cld3\"] or \"unknown\")\n",
    "    y_langdetect.append(doc[\"language\"][\"langdetect\"] or \"unknown\")\n",
    "    y_langid.append(doc[\"language\"][\"langid\"] or \"unknown\")\n"
   ]
  },
  {
   "cell_type": "code",
   "execution_count": 9,
   "metadata": {},
   "outputs": [
    {
     "data": {
      "text/plain": [
       "0.7366666666666667"
      ]
     },
     "execution_count": 9,
     "metadata": {},
     "output_type": "execute_result"
    }
   ],
   "source": [
    "cld2_confusion = confusion_matrix(y_true, y_cld2)\n",
    "cld2_accuracy = accuracy_score(y_true, y_cld2)\n",
    "cld2_accuracy"
   ]
  },
  {
   "cell_type": "code",
   "execution_count": 10,
   "metadata": {},
   "outputs": [
    {
     "data": {
      "text/plain": [
       "0.48333333333333334"
      ]
     },
     "execution_count": 10,
     "metadata": {},
     "output_type": "execute_result"
    }
   ],
   "source": [
    "cld3_confusion = confusion_matrix(y_true, y_cld3)\n",
    "cld3_accuracy = accuracy_score(y_true, y_cld3)\n",
    "cld3_accuracy"
   ]
  },
  {
   "cell_type": "code",
   "execution_count": 11,
   "metadata": {},
   "outputs": [
    {
     "data": {
      "text/plain": [
       "0.6733333333333333"
      ]
     },
     "execution_count": 11,
     "metadata": {},
     "output_type": "execute_result"
    }
   ],
   "source": [
    "langdetect_confusion = confusion_matrix(y_true, y_langdetect)\n",
    "langdetect_accuracy = accuracy_score(y_true, y_langdetect)\n",
    "langdetect_accuracy"
   ]
  },
  {
   "cell_type": "code",
   "execution_count": 12,
   "metadata": {},
   "outputs": [
    {
     "data": {
      "text/plain": [
       "0.91"
      ]
     },
     "execution_count": 12,
     "metadata": {},
     "output_type": "execute_result"
    }
   ],
   "source": [
    "langid_confusion = confusion_matrix(y_true, y_langid)\n",
    "langid_accuracy = accuracy_score(y_true, y_langid)\n",
    "langid_accuracy"
   ]
  },
  {
   "cell_type": "code",
   "execution_count": 15,
   "metadata": {},
   "outputs": [
    {
     "name": "stdout",
     "output_type": "stream",
     "text": [
      "Confusion matrix, without normalization\n",
      "[[151   0   1   1   1   2  28]\n",
      " [  0   0   0   0   0   0   0]\n",
      " [  0   0   0   0   0   0   0]\n",
      " [ 12   1   0  69   0   0  33]\n",
      " [  0   0   0   0   0   0   0]\n",
      " [  0   0   0   0   0   0   0]\n",
      " [  0   0   0   0   0   0   1]]\n"
     ]
    },
    {
     "data": {
      "image/png": "[encoded data removed]",
      "text/plain": [
       "<Figure size 432x288 with 2 Axes>"
      ]
     },
     "metadata": {},
     "output_type": "display_data"
    }
   ],
   "source": [
    "plot_confusion_matrix(cld2_confusion, [\"nl\", \"?\", \"?\", \"en\", \"?\", \"?\", \"unknown\"])"
   ]
  },
  {
   "cell_type": "code",
   "execution_count": 14,
   "metadata": {},
   "outputs": [
    {
     "name": "stdout",
     "output_type": "stream",
     "text": [
      "Confusion matrix, without normalization\n",
      "[[178   6   0]\n",
      " [ 20  95   0]\n",
      " [  0   1   0]]\n"
     ]
    },
    {
     "data": {
      "image/png": "[encoded data removed]",
      "text/plain": [
       "<Figure size 432x288 with 2 Axes>"
      ]
     },
     "metadata": {},
     "output_type": "display_data"
    }
   ],
   "source": [
    "plot_confusion_matrix(langid_confusion, [\"nl\", \"en\", \"unknown\"])"
   ]
  }
 ],
 "metadata": {
  "kernelspec": {
   "display_name": "Python [conda env:surf]",
   "language": "python",
   "name": "conda-env-surf-py"
  },
  "language_info": {
   "codemirror_mode": {
    "name": "ipython",
    "version": 3
   },
   "file_extension": ".py",
   "mimetype": "text/x-python",
   "name": "python",
   "nbconvert_exporter": "python",
   "pygments_lexer": "ipython3",
   "version": "3.6.6"
  },
  "varInspector": {
   "cols": {
    "lenName": 16,
    "lenType": 16,
    "lenVar": 40
   },
   "kernels_config": {
    "python": {
     "delete_cmd_postfix": "",
     "delete_cmd_prefix": "del ",
     "library": "var_list.py",
     "varRefreshCmd": "print(var_dic_list())"
    },
    "r": {
     "delete_cmd_postfix": ") ",
     "delete_cmd_prefix": "rm(",
     "library": "var_list.r",
     "varRefreshCmd": "cat(var_dic_list()) "
    }
   },
   "types_to_exclude": [
    "module",
    "function",
    "builtin_function_or_method",
    "instance",
    "_Feature"
   ],
   "window_display": false
  }
 },
 "nbformat": 4,
 "nbformat_minor": 2
}
