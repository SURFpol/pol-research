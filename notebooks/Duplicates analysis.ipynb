{
 "cells": [
  {
   "cell_type": "code",
   "execution_count": 21,
   "metadata": {},
   "outputs": [],
   "source": [
    "import os\n",
    "import json"
   ]
  },
  {
   "cell_type": "code",
   "execution_count": 29,
   "metadata": {},
   "outputs": [],
   "source": [
    "global_titles = {}\n",
    "\n",
    "for root, dirs, files in os.walk(\"../data/freeze_03/output/stimuleringsregeling\"):\n",
    "    for file in files:\n",
    "        if not file.endswith(\".json\") or file.startswith(\"with_text\"):\n",
    "            continue\n",
    "        with open(os.path.join(root, file)) as json_file:\n",
    "            entry = json.load(json_file)\n",
    "        titles = set()\n",
    "        for doc in entry[\"documents\"]:\n",
    "            titles.add(doc[\"title\"])\n",
    "        for title in titles:\n",
    "            if title not in global_titles:\n",
    "                global_titles[title] = [entry[\"id\"]]\n",
    "            else:\n",
    "                global_titles[title].append(entry[\"id\"])"
   ]
  },
  {
   "cell_type": "code",
   "execution_count": 30,
   "metadata": {},
   "outputs": [
    {
     "name": "stdout",
     "output_type": "stream",
     "text": [
      "3 Pipetting | Wageningen UR \n",
      "2 Setting up a silica column | Wageningen UR \n",
      "2 Maatkolf | Wageningen UR \n",
      "2 Nutr103x 3 3 1 History of food microbiology episode 2 After 1900 \n",
      "2 Conductometer Schott | Wageningen UR \n",
      "2 Pipetting - troubleshooting | Wageningen UR \n",
      "2 Spectrophotometer | Wageningen UR \n",
      "2 Overfitting and Underfitting\n",
      "2 Using a Vortex | Wageningen UR \n",
      "2 FFPESx 3 5 1 Integrating crop and livestock productivity \n",
      "2 Using a pH meter 2 \n",
      "2 Nutr103x 5 2 1 risk assessment framework \n",
      "12\n"
     ]
    }
   ],
   "source": [
    "duplicates = 0\n",
    "for title, ids in global_titles.items():\n",
    "    ids_count = len(ids)\n",
    "    if ids_count > 1:\n",
    "        duplicates += 1\n",
    "        print(ids_count, title)\n",
    "print(duplicates)"
   ]
  },
  {
   "cell_type": "code",
   "execution_count": 25,
   "metadata": {},
   "outputs": [
    {
     "name": "stdout",
     "output_type": "stream",
     "text": [
      "[5398444, 5398444]\n"
     ]
    }
   ],
   "source": [
    "print(global_titles[\"De ideale leraar\"])"
   ]
  },
  {
   "cell_type": "code",
   "execution_count": 31,
   "metadata": {},
   "outputs": [
    {
     "data": {
      "text/plain": [
       "760"
      ]
     },
     "execution_count": 31,
     "metadata": {},
     "output_type": "execute_result"
    }
   ],
   "source": [
    "len(global_titles)"
   ]
  },
  {
   "cell_type": "code",
   "execution_count": null,
   "metadata": {},
   "outputs": [],
   "source": []
  }
 ],
 "metadata": {
  "kernelspec": {
   "display_name": "Python [conda env:surf]",
   "language": "python",
   "name": "conda-env-surf-py"
  },
  "language_info": {
   "codemirror_mode": {
    "name": "ipython",
    "version": 3
   },
   "file_extension": ".py",
   "mimetype": "text/x-python",
   "name": "python",
   "nbconvert_exporter": "python",
   "pygments_lexer": "ipython3",
   "version": "3.6.6"
  },
  "varInspector": {
   "cols": {
    "lenName": 16,
    "lenType": 16,
    "lenVar": 40
   },
   "kernels_config": {
    "python": {
     "delete_cmd_postfix": "",
     "delete_cmd_prefix": "del ",
     "library": "var_list.py",
     "varRefreshCmd": "print(var_dic_list())"
    },
    "r": {
     "delete_cmd_postfix": ") ",
     "delete_cmd_prefix": "rm(",
     "library": "var_list.r",
     "varRefreshCmd": "cat(var_dic_list()) "
    }
   },
   "types_to_exclude": [
    "module",
    "function",
    "builtin_function_or_method",
    "instance",
    "_Feature"
   ],
   "window_display": false
  }
 },
 "nbformat": 4,
 "nbformat_minor": 2
}
